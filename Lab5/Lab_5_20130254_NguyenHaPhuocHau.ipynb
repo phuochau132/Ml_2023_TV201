{
  "nbformat": 4,
  "nbformat_minor": 0,
  "metadata": {
    "colab": {
      "provenance": []
    },
    "kernelspec": {
      "name": "python3",
      "display_name": "Python 3"
    },
    "language_info": {
      "name": "python"
    }
  },
  "cells": [
    {
      "cell_type": "markdown",
      "source": [
        "# This lab is to deal with **SVM** to classification tasks and compare its performance with other competitive algorithms. In general, **SVM** is one of the most popular and widely used supervised machine learning algorithms.\n",
        "\n",
        "*   **Deadline: 23:59, 17/03/2023**\n",
        "\n"
      ],
      "metadata": {
        "id": "LMzehe0sy5wr"
      }
    },
    {
      "cell_type": "markdown",
      "source": [
        "# Import libraries"
      ],
      "metadata": {
        "id": "H4nJmxp9zGX4"
      }
    },
    {
      "cell_type": "code",
      "execution_count": null,
      "metadata": {
        "id": "DoVWQ8AEyc-C",
        "colab": {
          "base_uri": "https://localhost:8080/"
        },
        "outputId": "cdf34845-c57e-4b10-f412-27d85e3d0c8f"
      },
      "outputs": [
        {
          "output_type": "stream",
          "name": "stdout",
          "text": [
            "Drive already mounted at /content/gdrive; to attempt to forcibly remount, call drive.mount(\"/content/gdrive\", force_remount=True).\n",
            "/content/gdrive/MyDrive\n"
          ]
        }
      ],
      "source": [
        "from google.colab import drive\n",
        "drive.mount('/content/gdrive')\n",
        "%cd '/content/gdrive/MyDrive/'"
      ]
    },
    {
      "cell_type": "markdown",
      "source": [
        "#Task 1. \n",
        "For breast cancer dataset (https://tinyurl.com/3vme8hr3) which could be loaded from datasets in sklearn as follows:\n",
        "\n",
        "```\n",
        "#Import scikit-learn dataset library\n",
        "from sklearn import datasets\n",
        "\n",
        "#Load dataset\n",
        "cancer = datasets.load_breast_cancer()\n",
        "```\n",
        "\n",
        "*   1.1.\tApply SVM algorithm to above dataset using linear kernel.\n",
        "*   1.2.\tCompare the obtained results with other competitive algorithms (Logistic Regression, Decision Tree, kNN) based on metrics: accuracy, precision, recall, f1 measures.\n",
        "\n"
      ],
      "metadata": {
        "id": "kNv07ARGzOUm"
      }
    },
    {
      "cell_type": "code",
      "source": [
        "from sklearn import datasets\n",
        "from sklearn import svm\n",
        "import numpy as np\n",
        "from sklearn.model_selection import train_test_split\n",
        "from sklearn.linear_model import LogisticRegression\n",
        "from sklearn import metrics\n",
        "from prettytable import PrettyTable\n",
        "from IPython import display\n",
        "import pandas as pd\n",
        "import matplotlib.pyplot as plt\n",
        "from sklearn.neighbors import KNeighborsClassifier\n",
        "from sklearn.tree import DecisionTreeClassifier"
      ],
      "metadata": {
        "id": "b8FpsTyvL_-D"
      },
      "execution_count": null,
      "outputs": []
    },
    {
      "cell_type": "code",
      "source": [
        "cancer = datasets.load_breast_cancer()\n",
        "X=cancer.data\n",
        "y=cancer.target\n",
        "X_train, X_test, y_train, y_test = train_test_split( X, y, test_size=0.3, random_state=42)\n",
        "#Create a svm Classifier\n",
        "clf = svm.SVC(kernel='linear') # Linear Kernel\n",
        "#Train the model using the training sets\n",
        "clf.fit(X_train, y_train)\n",
        "#Predict the response for test dataset\n",
        "y_predSvm = clf.predict(X_test)\n",
        "acc = round(metrics.accuracy_score(y_test, y_predSvm),4)\n",
        "f1svm = round(metrics.f1_score(y_test, y_predSvm),4)\n",
        "recallsvm = round(metrics.recall_score(y_test, y_predSvm),4)\n",
        "preSvm = round(metrics.precision_score(y_test, y_predSvm),4)"
      ],
      "metadata": {
        "id": "sOsg77IBzEyo"
      },
      "execution_count": null,
      "outputs": []
    },
    {
      "cell_type": "code",
      "source": [
        "model = LogisticRegression()\n",
        "model = model.fit(X_train,y_train)\n",
        "y_predLogis = model.predict(X_test)\n",
        "accLogis = round(metrics.accuracy_score(y_test, y_predLogis),4)\n",
        "f1Logis  = round(metrics.f1_score(y_test, y_predLogis),4)\n",
        "recallLogis = round(metrics.recall_score(y_test, y_predLogis),4)\n",
        "preLogis =round(metrics.precision_score(y_test, y_predLogis),4)\n"
      ],
      "metadata": {
        "colab": {
          "base_uri": "https://localhost:8080/"
        },
        "id": "fTydyrg3Nbir",
        "outputId": "3eb5a346-6730-43d0-a874-fab07c742320"
      },
      "execution_count": null,
      "outputs": [
        {
          "output_type": "stream",
          "name": "stderr",
          "text": [
            "/usr/local/lib/python3.9/dist-packages/sklearn/linear_model/_logistic.py:458: ConvergenceWarning: lbfgs failed to converge (status=1):\n",
            "STOP: TOTAL NO. of ITERATIONS REACHED LIMIT.\n",
            "\n",
            "Increase the number of iterations (max_iter) or scale the data as shown in:\n",
            "    https://scikit-learn.org/stable/modules/preprocessing.html\n",
            "Please also refer to the documentation for alternative solver options:\n",
            "    https://scikit-learn.org/stable/modules/linear_model.html#logistic-regression\n",
            "  n_iter_i = _check_optimize_result(\n"
          ]
        }
      ]
    },
    {
      "cell_type": "code",
      "source": [
        "knn = KNeighborsClassifier()\n",
        "knn.fit(X_train, y_train)\n",
        "y_predKnn = model.predict(X_test)\n",
        "accKnn = round(metrics.accuracy_score(y_test, y_predKnn),4)\n",
        "f1Knn = round(metrics.f1_score(y_test, y_predKnn),4)\n",
        "recallKnn = round(metrics.recall_score(y_test, y_predKnn),4)\n",
        "preKnn = round(metrics.precision_score(y_test, y_predKnn),4)\n"
      ],
      "metadata": {
        "id": "jHFP2Yk5TrPC"
      },
      "execution_count": null,
      "outputs": []
    },
    {
      "cell_type": "code",
      "source": [
        "ModelTree = DecisionTreeClassifier()\n",
        "ModelTree.fit(X_train, y_train)\n",
        "y_predTree=ModelTree.predict(X_test)\n",
        "accTree = round(metrics.accuracy_score(y_test, y_predTree),4)\n",
        "f1Tree =round( metrics.f1_score(y_test, y_predTree),4)\n",
        "recallTree = round(metrics.recall_score(y_test, y_predTree),4)\n",
        "PreTree = round(metrics.precision_score(y_test, y_predTree),4)"
      ],
      "metadata": {
        "id": "yqofoEnJU9W7"
      },
      "execution_count": null,
      "outputs": []
    },
    {
      "cell_type": "code",
      "source": [
        "x = PrettyTable()\n",
        "x.field_names = [\"name\",\"accuracy\", \"f1\", \"recall\", \"precision\"]\n",
        "x.add_row([\"SVM\", acc, f1svm, recallsvm,preSvm])\n",
        "x.add_row([\"KNN\", accKnn, f1Knn, recallKnn,preKnn])\n",
        "x.add_row([\"Logistic\", accLogis, f1Logis,recallLogis, preLogis])\n",
        "print(x)\n"
      ],
      "metadata": {
        "colab": {
          "base_uri": "https://localhost:8080/"
        },
        "id": "GXPRmkJoTn1U",
        "outputId": "91e04e25-3ef7-4417-92e2-e84dcd7f2a04"
      },
      "execution_count": null,
      "outputs": [
        {
          "output_type": "stream",
          "name": "stdout",
          "text": [
            "+----------+----------+--------+--------+-----------+\n",
            "|   name   | accuracy |   f1   | recall | precision |\n",
            "+----------+----------+--------+--------+-----------+\n",
            "|   SVM    |  0.9649  | 0.9725 | 0.9815 |   0.9636  |\n",
            "|   KNN    |  0.9708  | 0.9772 | 0.9907 |   0.964   |\n",
            "| Logistic |  0.9708  | 0.9772 | 0.9907 |   0.964   |\n",
            "+----------+----------+--------+--------+-----------+\n"
          ]
        }
      ]
    },
    {
      "cell_type": "markdown",
      "source": [
        "#Task 2. \n",
        "\n",
        "*   1.1.\tPerform SVM algorithm to **Iris dataset** using **linear kernel**.\n",
        "*   1.2.\tCompare the obtained results in 1.1 with SVM using other kernels (**Polynomial Kernel, Gaussian Kernel, Sigmoid Kernel, Radial Basis Function Kernel**). Some metrics could be used: accuracy, precision, recall, f1 measures\n",
        "\n",
        "\n",
        "\n"
      ],
      "metadata": {
        "id": "S43IoUT-0OQq"
      }
    },
    {
      "cell_type": "code",
      "source": [
        "dataT2 = datasets.load_iris()\n",
        "X=dataT2.data\n",
        "y=dataT2.target\n",
        "X_train, X_test, y_train, y_test = train_test_split( X, y, test_size=0.2, random_state=42)\n",
        "clfPoly = svm.SVC(kernel='poly') # Linear Kernel\n",
        "#Train the model using the training sets\n",
        "clfPoly.fit(X_train, y_train)\n",
        "#Predict the response for test dataset\n",
        "y_predPoly = clfPoly.predict(X_test)\n",
        "accPoly = round(metrics.accuracy_score(y_test, y_predPoly),4)\n",
        "f1Poly = round(metrics.f1_score(y_test, y_predPoly,average='weighted'),4)\n",
        "recallPoly = round(metrics.recall_score(y_test, y_predPoly,average='weighted'),4)\n",
        "prePoly = round(metrics.precision_score(y_test, y_predPoly,average='weighted'),4)\n",
        "print(metrics.classification_report(y_test,y_predPoly))\n"
      ],
      "metadata": {
        "id": "_xhPpF5b033h",
        "colab": {
          "base_uri": "https://localhost:8080/"
        },
        "outputId": "891c1d9e-53c2-4c5d-8bab-b15a5ad36d0f"
      },
      "execution_count": null,
      "outputs": [
        {
          "output_type": "stream",
          "name": "stdout",
          "text": [
            "              precision    recall  f1-score   support\n",
            "\n",
            "           0       1.00      1.00      1.00        10\n",
            "           1       1.00      1.00      1.00         9\n",
            "           2       1.00      1.00      1.00        11\n",
            "\n",
            "    accuracy                           1.00        30\n",
            "   macro avg       1.00      1.00      1.00        30\n",
            "weighted avg       1.00      1.00      1.00        30\n",
            "\n"
          ]
        }
      ]
    },
    {
      "cell_type": "code",
      "source": [
        "clfGau = svm.SVC(kernel='rbf') # Linear Kernel\n",
        "#Train the model using the training sets\n",
        "clfGau.fit(X_train, y_train)\n",
        "#Predict the response for test dataset\n",
        "y_predGau = clfGau.predict(X_test)\n",
        "accGau = round(metrics.accuracy_score(y_test, y_predGau),4)\n",
        "f1Gau = round(metrics.f1_score(y_test, y_predGau,average='weighted'),4)\n",
        "recallGau = round(metrics.recall_score(y_test, y_predGau,average='weighted'),4)\n",
        "preGau = round(metrics.precision_score(y_test, y_predGau,average='weighted'),4)\n"
      ],
      "metadata": {
        "id": "1qO46YUeaU5E"
      },
      "execution_count": null,
      "outputs": []
    },
    {
      "cell_type": "code",
      "source": [
        "clfSigmoid = svm.SVC(kernel='sigmoid') # Linear Kernel\n",
        "#Train the model using the training sets\n",
        "clfSigmoid.fit(X_train, y_train)\n",
        "#Predict the response for test dataset\n",
        "y_predSigmoid = clfSigmoid.predict(X_test)\n",
        "accSidmoid = round(metrics.accuracy_score(y_test, y_predSigmoid),4)\n",
        "f1Sidmoid = round(metrics.f1_score(y_test, y_predSigmoid,average='weighted'),4)\n",
        "recallSidmoid = round(metrics.recall_score(y_test, y_predSigmoid,average='weighted'),4)\n",
        "preSidmoid = round(metrics.precision_score(y_test, y_predSigmoid,average='weighted'),4)\n",
        "print(metrics.classification_report(y_test, y_predSigmoid))\n"
      ],
      "metadata": {
        "colab": {
          "base_uri": "https://localhost:8080/"
        },
        "id": "3kVXnM3xca7s",
        "outputId": "092eef0d-ee16-4f85-cf07-08f701f5af2d"
      },
      "execution_count": null,
      "outputs": [
        {
          "output_type": "stream",
          "name": "stdout",
          "text": [
            "              precision    recall  f1-score   support\n",
            "\n",
            "           0       0.00      0.00      0.00        10\n",
            "           1       0.30      1.00      0.46         9\n",
            "           2       0.00      0.00      0.00        11\n",
            "\n",
            "    accuracy                           0.30        30\n",
            "   macro avg       0.10      0.33      0.15        30\n",
            "weighted avg       0.09      0.30      0.14        30\n",
            "\n"
          ]
        },
        {
          "output_type": "stream",
          "name": "stderr",
          "text": [
            "/usr/local/lib/python3.9/dist-packages/sklearn/metrics/_classification.py:1344: UndefinedMetricWarning: Precision is ill-defined and being set to 0.0 in labels with no predicted samples. Use `zero_division` parameter to control this behavior.\n",
            "  _warn_prf(average, modifier, msg_start, len(result))\n",
            "/usr/local/lib/python3.9/dist-packages/sklearn/metrics/_classification.py:1344: UndefinedMetricWarning: Precision and F-score are ill-defined and being set to 0.0 in labels with no predicted samples. Use `zero_division` parameter to control this behavior.\n",
            "  _warn_prf(average, modifier, msg_start, len(result))\n",
            "/usr/local/lib/python3.9/dist-packages/sklearn/metrics/_classification.py:1344: UndefinedMetricWarning: Precision and F-score are ill-defined and being set to 0.0 in labels with no predicted samples. Use `zero_division` parameter to control this behavior.\n",
            "  _warn_prf(average, modifier, msg_start, len(result))\n",
            "/usr/local/lib/python3.9/dist-packages/sklearn/metrics/_classification.py:1344: UndefinedMetricWarning: Precision and F-score are ill-defined and being set to 0.0 in labels with no predicted samples. Use `zero_division` parameter to control this behavior.\n",
            "  _warn_prf(average, modifier, msg_start, len(result))\n"
          ]
        }
      ]
    },
    {
      "cell_type": "code",
      "source": [
        "x = PrettyTable()\n",
        "x.field_names = [\"name\",\"accuracy\", \"f1\", \"recall\", \"precision\"]\n",
        "x.add_row([\"poly\", accPoly, f1Poly, recallPoly,prePoly])\n",
        "x.add_row([\"Gau\", accGau, f1Gau, recallGau,preGau])\n",
        "x.add_row([\"Sigmoid\", accSidmoid, f1Sidmoid,recallSidmoid, preSidmoid])\n",
        "print(x)"
      ],
      "metadata": {
        "id": "m9pyIQBVdQq8",
        "colab": {
          "base_uri": "https://localhost:8080/"
        },
        "outputId": "b7e108d7-840f-4ffb-d100-d64605d0f47e"
      },
      "execution_count": null,
      "outputs": [
        {
          "output_type": "stream",
          "name": "stdout",
          "text": [
            "+---------+----------+--------+--------+-----------+\n",
            "|   name  | accuracy |   f1   | recall | precision |\n",
            "+---------+----------+--------+--------+-----------+\n",
            "|   poly  |   1.0    |  1.0   |  1.0   |    1.0    |\n",
            "|   Gau   |   1.0    |  1.0   |  1.0   |    1.0    |\n",
            "| Sigmoid |   0.3    | 0.1385 |  0.3   |    0.09   |\n",
            "+---------+----------+--------+--------+-----------+\n"
          ]
        }
      ]
    },
    {
      "cell_type": "markdown",
      "source": [
        "#Task 3. \n",
        "Compare the performance of selected classification algorithms (Decision Tree, kNN, Logistic Regression) and SVM (using different kernels) with mnist dataset based on accuracy, precision, recall, f1 measures.\n"
      ],
      "metadata": {
        "id": "b52OPWPD2afi"
      }
    },
    {
      "cell_type": "code",
      "source": [
        "x.field_names = [\"name\",\"accuracy\", \"f1\", \"recall\", \"precision\"]\n",
        "x.add_row([\"SVM\", acc, f1svm, recallsvm,preSvm])\n",
        "x.add_row([\"KNN\", accKnn, f1Knn, recallKnn,preKnn])\n",
        "x.add_row([\"Logistic\", accLogis, f1Logis,recallLogis, preLogis])\n",
        "x.add_row([\"kernalPoly\", accPoly, f1Poly, recallPoly,prePoly])\n",
        "x.add_row([\"kernalGau\", accGau, f1Gau, recallGau,preGau])\n",
        "x.add_row([\"kernalSigmoid\", accSidmoid, f1Sidmoid,recallSidmoid, preSidmoid])"
      ],
      "metadata": {
        "id": "ZzIKVFop43uq"
      },
      "execution_count": null,
      "outputs": []
    },
    {
      "cell_type": "markdown",
      "source": [
        "#Task 4. \n",
        "Compare the performance of selected classification algorithms (Decision Tree, kNN, Logistic Regression) and SVM (using different kernels) with **credit card dataset** based on accuracy, precision, recall, f1 measures.\n",
        "\n",
        "*   Give some comments on the obtained results\n",
        "*   Identify issues with dataset, and propose the solutions to these issues\n",
        "\n"
      ],
      "metadata": {
        "id": "Z5pp7_h-aP2u"
      }
    },
    {
      "cell_type": "code",
      "source": [
        "data=pd.read_csv(\"creditcard.csv\")\n",
        "print(data)"
      ],
      "metadata": {
        "id": "Rw_-8FIf2KxW",
        "colab": {
          "base_uri": "https://localhost:8080/"
        },
        "outputId": "1c7019ee-3d3c-43f2-9477-504e1338195b"
      },
      "execution_count": null,
      "outputs": [
        {
          "output_type": "stream",
          "name": "stdout",
          "text": [
            "            Time         V1         V2        V3        V4        V5  \\\n",
            "0            0.0  -1.359807  -0.072781  2.536347  1.378155 -0.338321   \n",
            "1            0.0   1.191857   0.266151  0.166480  0.448154  0.060018   \n",
            "2            1.0  -1.358354  -1.340163  1.773209  0.379780 -0.503198   \n",
            "3            1.0  -0.966272  -0.185226  1.792993 -0.863291 -0.010309   \n",
            "4            2.0  -1.158233   0.877737  1.548718  0.403034 -0.407193   \n",
            "...          ...        ...        ...       ...       ...       ...   \n",
            "284802  172786.0 -11.881118  10.071785 -9.834783 -2.066656 -5.364473   \n",
            "284803  172787.0  -0.732789  -0.055080  2.035030 -0.738589  0.868229   \n",
            "284804  172788.0   1.919565  -0.301254 -3.249640 -0.557828  2.630515   \n",
            "284805  172788.0  -0.240440   0.530483  0.702510  0.689799 -0.377961   \n",
            "284806  172792.0  -0.533413  -0.189733  0.703337 -0.506271 -0.012546   \n",
            "\n",
            "              V6        V7        V8        V9  ...       V21       V22  \\\n",
            "0       0.462388  0.239599  0.098698  0.363787  ... -0.018307  0.277838   \n",
            "1      -0.082361 -0.078803  0.085102 -0.255425  ... -0.225775 -0.638672   \n",
            "2       1.800499  0.791461  0.247676 -1.514654  ...  0.247998  0.771679   \n",
            "3       1.247203  0.237609  0.377436 -1.387024  ... -0.108300  0.005274   \n",
            "4       0.095921  0.592941 -0.270533  0.817739  ... -0.009431  0.798278   \n",
            "...          ...       ...       ...       ...  ...       ...       ...   \n",
            "284802 -2.606837 -4.918215  7.305334  1.914428  ...  0.213454  0.111864   \n",
            "284803  1.058415  0.024330  0.294869  0.584800  ...  0.214205  0.924384   \n",
            "284804  3.031260 -0.296827  0.708417  0.432454  ...  0.232045  0.578229   \n",
            "284805  0.623708 -0.686180  0.679145  0.392087  ...  0.265245  0.800049   \n",
            "284806 -0.649617  1.577006 -0.414650  0.486180  ...  0.261057  0.643078   \n",
            "\n",
            "             V23       V24       V25       V26       V27       V28  Amount  \\\n",
            "0      -0.110474  0.066928  0.128539 -0.189115  0.133558 -0.021053  149.62   \n",
            "1       0.101288 -0.339846  0.167170  0.125895 -0.008983  0.014724    2.69   \n",
            "2       0.909412 -0.689281 -0.327642 -0.139097 -0.055353 -0.059752  378.66   \n",
            "3      -0.190321 -1.175575  0.647376 -0.221929  0.062723  0.061458  123.50   \n",
            "4      -0.137458  0.141267 -0.206010  0.502292  0.219422  0.215153   69.99   \n",
            "...          ...       ...       ...       ...       ...       ...     ...   \n",
            "284802  1.014480 -0.509348  1.436807  0.250034  0.943651  0.823731    0.77   \n",
            "284803  0.012463 -1.016226 -0.606624 -0.395255  0.068472 -0.053527   24.79   \n",
            "284804 -0.037501  0.640134  0.265745 -0.087371  0.004455 -0.026561   67.88   \n",
            "284805 -0.163298  0.123205 -0.569159  0.546668  0.108821  0.104533   10.00   \n",
            "284806  0.376777  0.008797 -0.473649 -0.818267 -0.002415  0.013649  217.00   \n",
            "\n",
            "        Class  \n",
            "0           0  \n",
            "1           0  \n",
            "2           0  \n",
            "3           0  \n",
            "4           0  \n",
            "...       ...  \n",
            "284802      0  \n",
            "284803      0  \n",
            "284804      0  \n",
            "284805      0  \n",
            "284806      0  \n",
            "\n",
            "[284807 rows x 31 columns]\n"
          ]
        }
      ]
    },
    {
      "cell_type": "markdown",
      "source": [
        "#Finally,\n",
        "Save a copy in your Github. Remember renaming the notebook."
      ],
      "metadata": {
        "id": "Ok7RGkea_b7n"
      }
    }
  ]
}